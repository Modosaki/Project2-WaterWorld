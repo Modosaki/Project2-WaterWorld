{
 "cells": [
  {
   "cell_type": "code",
   "execution_count": 78,
   "metadata": {},
   "outputs": [],
   "source": [
    "from sqlalchemy import create_engine\n",
    "from sqlalchemy.ext.automap import automap_base\n",
    "from sqlalchemy.orm import Session\n",
    "from sqlalchemy import create_engine\n",
    "\n",
    "engine = create_engine('sqlite:///C:/Users/8135t/Project2-WaterWorld/waterdb.sqlite', echo=False)"
   ]
  },
  {
   "cell_type": "code",
   "execution_count": 79,
   "metadata": {},
   "outputs": [],
   "source": [
    "Base = automap_base()\n",
    "# reflect the tables\n",
    "Base.prepare(engine, reflect=True)"
   ]
  },
  {
   "cell_type": "code",
   "execution_count": 80,
   "metadata": {},
   "outputs": [
    {
     "data": {
      "text/plain": [
       "['Aquastat_table', 'WQI_table']"
      ]
     },
     "execution_count": 80,
     "metadata": {},
     "output_type": "execute_result"
    }
   ],
   "source": [
    "Base.classes.keys()"
   ]
  },
  {
   "cell_type": "code",
   "execution_count": 72,
   "metadata": {},
   "outputs": [],
   "source": [
    "WQITable = Base.classes.WQITable"
   ]
  },
  {
   "cell_type": "code",
   "execution_count": 73,
   "metadata": {},
   "outputs": [],
   "source": [
    "session = Session(engine)"
   ]
  },
  {
   "cell_type": "code",
   "execution_count": 76,
   "metadata": {},
   "outputs": [],
   "source": [
    "results = session.query(WQITable.iso, WQITable.country, WQITable.H2O_current).all()"
   ]
  },
  {
   "cell_type": "code",
   "execution_count": 77,
   "metadata": {},
   "outputs": [
    {
     "name": "stdout",
     "output_type": "stream",
     "text": [
      "('AFG', 'Afghanistan', 25.75)\n",
      "('ALB', 'Albania', 66.56)\n",
      "('DZA', 'Algeria', 60.26)\n",
      "('AGO', 'Angola', 9.2)\n",
      "('ATG', 'Antigua and Barbuda', 53.33)\n",
      "('ARG', 'Argentina', 73.07)\n",
      "('ARM', 'Armenia', 61.94)\n",
      "('AUS', 'Australia', 98.44)\n",
      "('AUT', 'Austria', 94.63)\n",
      "('AZE', 'Azerbaijan', 48.53)\n",
      "('BHS', 'Bahamas', 55.4)\n",
      "('BHR', 'Bahrain', 63.06)\n",
      "('BGD', 'Bangladesh', 28.47)\n",
      "('BRB', 'Barbados', 55.64)\n",
      "('BLR', 'Belarus', 68.66)\n",
      "('BEL', 'Belgium', 96.09)\n",
      "('BLZ', 'Belize', 46.74)\n",
      "('BEN', 'Benin', 6.37)\n",
      "('BTN', 'Bhutan', 32.6)\n",
      "('BOL', 'Bolivia', 44.57)\n",
      "('BIH', 'Bosnia and Herzegovina', 71.54)\n",
      "('BWA', 'Botswana', 21.8)\n",
      "('BRA', 'Brazil', 45.91)\n",
      "('BRN', 'Brunei Darussalam', 94.9)\n",
      "('BGR', 'Bulgaria', 71.26)\n",
      "('BFA', 'Burkina Faso', 8.45)\n",
      "('BDI', 'Burundi', 0.86)\n",
      "('KHM', 'Cambodia', 35.26)\n",
      "('CMR', 'Cameroon', 13.45)\n",
      "('CAN', 'Canada', 94.69)\n",
      "('CPV', 'Cabo Verde', 40.66)\n",
      "('CAF', 'Central African Republic', 0.0)\n",
      "('TCD', 'Chad', 0.32)\n",
      "('CHL', 'Chile', 79.61)\n",
      "('CHN', 'China', 68.24)\n",
      "('COL', 'Colombia', 59.96)\n",
      "('COM', 'Comoros', 10.0)\n",
      "('CRI', 'Costa Rica', 62.78)\n",
      "('CIV', \"CÃ´te d'Ivoire\", 9.53)\n",
      "('HRV', 'Croatia', 70.01)\n",
      "('CUB', 'Cuba', 57.5)\n",
      "('CYP', 'Cyprus', 92.35)\n",
      "('CZE', 'Czech Republic', 69.98)\n",
      "('COD', 'Dem. Rep. Congo', 10.01)\n",
      "('DNK', 'Denmark', 97.78)\n",
      "('DJI', 'Djibouti', 19.3)\n",
      "('DMA', 'Dominica', 50.64)\n",
      "('DOM', 'Dominican Republic', 42.4)\n",
      "('ECU', 'Ecuador', 52.2)\n",
      "('EGY', 'Egypt', 32.78)\n",
      "('SLV', 'El Salvador', 42.34)\n",
      "('GNQ', 'Equatorial Guinea', 31.89)\n",
      "('ERI', 'Eritrea', 7.09)\n",
      "('EST', 'Estonia', 58.45)\n",
      "('ETH', 'Ethiopia', 9.35)\n",
      "('FJI', 'Fiji', 39.93)\n",
      "('FIN', 'Finland', 100.0)\n",
      "('FRA', 'France', 97.22)\n",
      "('GAB', 'Gabon', 22.23)\n",
      "('GMB', 'Gambia', 16.8)\n",
      "('GEO', 'Georgia', 59.93)\n",
      "('DEU', 'Germany', 96.74)\n",
      "('GHA', 'Ghana', 26.52)\n",
      "('GRC', 'Greece', 100.0)\n",
      "('GRD', 'Grenada', 48.26)\n",
      "('GTM', 'Guatemala', 29.5)\n",
      "('GIN', 'Guinea', 12.79)\n",
      "('GNB', 'Guinea-Bissau', 10.01)\n",
      "('GUY', 'Guyana', 38.67)\n",
      "('HTI', 'Haiti', 15.45)\n",
      "('HND', 'Honduras', 34.06)\n",
      "('HUN', 'Hungary', 66.26)\n",
      "('ISL', 'Iceland', 100.0)\n",
      "('IND', 'India', 15.8)\n",
      "('IDN', 'Indonesia', 31.41)\n",
      "('IRN', 'Iran', 58.74)\n",
      "('IRQ', 'Iraq', 41.05)\n",
      "('IRL', 'Ireland', 100.0)\n",
      "('ISR', 'Israel', 92.03)\n",
      "('ITA', 'Italy', 100.0)\n",
      "('JAM', 'Jamaica', 51.04)\n",
      "('JPN', 'Japan', 96.6)\n",
      "('JOR', 'Jordan', 68.82)\n",
      "('KAZ', 'Kazakhstan', 62.89)\n",
      "('KEN', 'Kenya', 0.63)\n",
      "('KIR', 'Kiribati', 20.89)\n",
      "('KWT', 'Kuwait', 65.79)\n",
      "('KGZ', 'Kyrgyzstan', 44.74)\n",
      "('LAO', 'Laos', 27.59)\n",
      "('LVA', 'Latvia', 60.62)\n",
      "('LBN', 'Lebanon', 60.31)\n",
      "('LSO', 'Lesotho', 2.86)\n",
      "('LBR', 'Liberia', 4.79)\n",
      "('LBY', 'Libya', 54.93)\n",
      "('LTU', 'Lithuania', 58.51)\n",
      "('LUX', 'Luxembourg', 99.3)\n",
      "('MKD', 'Macedonia', 69.16)\n",
      "('MDG', 'Madagascar', 4.04)\n",
      "('MWI', 'Malawi', 8.28)\n",
      "('MYS', 'Malaysia', 63.0)\n",
      "('MDV', 'Maldives', 57.62)\n",
      "('MLI', 'Mali', 2.69)\n",
      "('MLT', 'Malta', 100.0)\n",
      "('MRT', 'Mauritania', 14.67)\n",
      "('MUS', 'Mauritius', 61.05)\n",
      "('MEX', 'Mexico', 57.58)\n",
      "('FSM', 'Micronesia', 46.39)\n",
      "('MDA', 'Moldova', 61.02)\n",
      "('MNG', 'Mongolia', 60.54)\n",
      "('MNE', 'Montenegro', 78.61)\n",
      "('MAR', 'Morocco', 42.24)\n",
      "('MOZ', 'Mozambique', 16.18)\n",
      "('MMR', 'Myanmar', 31.76)\n",
      "('NAM', 'Namibia', 15.5)\n",
      "('NPL', 'Nepal', 23.54)\n",
      "('NLD', 'Netherlands', 98.26)\n",
      "('NZL', 'New Zealand', 93.37)\n",
      "('NIC', 'Nicaragua', 41.96)\n",
      "('NER', 'Niger', 2.44)\n",
      "('NGA', 'Nigeria', 7.75)\n",
      "('NOR', 'Norway', 99.65)\n",
      "('OMN', 'Oman', 62.84)\n",
      "('PAK', 'Pakistan', 20.02)\n",
      "('PAN', 'Panama', 43.45)\n",
      "('PNG', 'Papua New Guinea', 18.48)\n",
      "('PRY', 'Paraguay', 44.96)\n",
      "('PER', 'Peru', 50.38)\n",
      "('PHL', 'Philippines', 42.86)\n",
      "('POL', 'Poland', 69.23)\n",
      "('PRT', 'Portugal', 93.59)\n",
      "('QAT', 'Qatar', 72.9)\n",
      "('COG', 'Republic of Congo', 10.26)\n",
      "('ROU', 'Romania', 59.9)\n",
      "('RUS', 'Russia', 63.93)\n",
      "('RWA', 'Rwanda', 14.96)\n",
      "('LCA', 'Saint Lucia', 47.79)\n",
      "('VCT', 'Saint Vincent and the Grenadines', 47.25)\n",
      "('WSM', 'Samoa', 49.92)\n",
      "('STP', 'SÃ£o TomÃ© and PrÃ\\xadncipe', 29.32)\n",
      "('SAU', 'Saudi Arabia', 62.38)\n",
      "('SEN', 'Senegal', 13.67)\n",
      "('SRB', 'Serbia', 69.73)\n",
      "('SYC', 'Seychelles', 58.28)\n",
      "('SLE', 'Sierra Leone', 2.5)\n",
      "('SGP', 'Singapore', 99.0)\n",
      "('SVK', 'Slovakia', 69.62)\n",
      "('SVN', 'Slovenia', 70.59)\n",
      "('SLB', 'Solomon Islands', 28.02)\n",
      "('ZAF', 'South Africa', 24.71)\n",
      "('KOR', 'South Korea', 96.52)\n",
      "('ESP', 'Spain', 100.0)\n",
      "('LKA', 'Sri Lanka', 53.09)\n",
      "('SDN', 'Sudan', 24.46)\n",
      "('SUR', 'Suriname', 40.14)\n",
      "('SWZ', 'Swaziland', 9.36)\n",
      "('SWE', 'Sweden', 96.88)\n",
      "('CHE', 'Switzerland', 99.99)\n",
      "('TWN', 'Taiwan', 69.71)\n",
      "('TJK', 'Tajikistan', 29.9)\n",
      "('TZA', 'Tanzania', 11.8)\n",
      "('THA', 'Thailand', 59.37)\n",
      "('TLS', 'Timor-Leste', 22.86)\n",
      "('TGO', 'Togo', 12.92)\n",
      "('TON', 'Tonga', 46.97)\n",
      "('TTO', 'Trinidad and Tobago', 56.29)\n",
      "('TUN', 'Tunisia', 57.6)\n",
      "('TUR', 'Turkey', 59.28)\n",
      "('TKM', 'Turkmenistan', 45.96)\n",
      "('UGA', 'Uganda', 13.1)\n",
      "('UKR', 'Ukraine', 60.89)\n",
      "('ARE', 'United Arab Emirates', 63.27)\n",
      "('GBR', 'United Kingdom', 100.0)\n",
      "('USA', 'United States of America', 90.92)\n",
      "('URY', 'Uruguay', 83.37)\n",
      "('UZB', 'Uzbekistan', 64.12)\n",
      "('VUT', 'Vanuatu', 28.73)\n",
      "('VEN', 'Venezuela', 50.39)\n",
      "('VNM', 'Viet Nam', 53.92)\n",
      "('ZMB', 'Zambia', 9.08)\n",
      "('ZWE', 'Zimbabwe', 12.19)\n"
     ]
    }
   ],
   "source": [
    "for result in results:\n",
    "    print(result)"
   ]
  },
  {
   "cell_type": "code",
   "execution_count": 42,
   "metadata": {},
   "outputs": [],
   "source": [
    "#f = Base.classes.AquastatTable"
   ]
  },
  {
   "cell_type": "code",
   "execution_count": 43,
   "metadata": {},
   "outputs": [
    {
     "name": "stdout",
     "output_type": "stream",
     "text": [
      "#################\n",
      "AquastatTable\n",
      "#################\n",
      "index\n",
      "Country\n",
      "Variable\n",
      "Year\n",
      "Value\n",
      "unit\n",
      "iso\n",
      "#################\n",
      "WQITable\n",
      "#################\n",
      "index\n",
      "iso\n",
      "country\n",
      "H2O.current\n"
     ]
    }
   ],
   "source": [
    "for table in m.tables.values():\n",
    "    print(\"#################\")\n",
    "    print(table.name)\n",
    "    print(\"#################\")\n",
    "    for column in table.c:\n",
    "        print(column.name)\n"
   ]
  },
  {
   "cell_type": "code",
   "execution_count": 17,
   "metadata": {},
   "outputs": [],
   "source": [
    "from sqlalchemy import Table\n",
    "WQI_table = Table('WQITable', m, autoload=True, autoload_with=engine)"
   ]
  },
  {
   "cell_type": "code",
   "execution_count": 27,
   "metadata": {},
   "outputs": [
    {
     "data": {
      "text/plain": [
       "Table('WQITable', MetaData(bind=None), Column('index', BIGINT(), table=<WQITable>), Column('iso', TEXT(), table=<WQITable>), Column('country', TEXT(), table=<WQITable>), Column('H2O.current', FLOAT(), table=<WQITable>), schema=None)"
      ]
     },
     "execution_count": 27,
     "metadata": {},
     "output_type": "execute_result"
    }
   ],
   "source": [
    "WQI_table"
   ]
  },
  {
   "cell_type": "code",
   "execution_count": 29,
   "metadata": {},
   "outputs": [
    {
     "data": {
      "text/plain": [
       "['AquastatTable', 'WQITable']"
      ]
     },
     "execution_count": 29,
     "metadata": {},
     "output_type": "execute_result"
    }
   ],
   "source": [
    "inspector = inspect(engine)\n",
    "inspector.get_table_names()"
   ]
  },
  {
   "cell_type": "code",
   "execution_count": 45,
   "metadata": {},
   "outputs": [
    {
     "data": {
      "text/plain": [
       "[(0, 'AFG', 'Afghanistan', 25.75),\n",
       " (1, 'ALB', 'Albania', 66.56),\n",
       " (2, 'DZA', 'Algeria', 60.26),\n",
       " (3, 'AGO', 'Angola', 9.2),\n",
       " (4, 'ATG', 'Antigua and Barbuda', 53.33),\n",
       " (5, 'ARG', 'Argentina', 73.07),\n",
       " (6, 'ARM', 'Armenia', 61.94),\n",
       " (7, 'AUS', 'Australia', 98.44),\n",
       " (8, 'AUT', 'Austria', 94.63),\n",
       " (9, 'AZE', 'Azerbaijan', 48.53)]"
      ]
     },
     "execution_count": 45,
     "metadata": {},
     "output_type": "execute_result"
    }
   ],
   "source": [
    "engine.execute('SELECT * FROM WQITable LIMIT 10').fetchall()"
   ]
  },
  {
   "cell_type": "code",
   "execution_count": 33,
   "metadata": {},
   "outputs": [
    {
     "data": {
      "text/plain": [
       "[(0, 'Afghanistan', 'Total population', 1962, 9344.0, 'E', 'AFG'),\n",
       " (1, 'Afghanistan', 'Total population', 1967, 10369.0, 'E', 'AFG'),\n",
       " (2, 'Afghanistan', 'Total population', 1972, 11717.0, 'E', 'AFG'),\n",
       " (3, 'Afghanistan', 'Total population', 1977, 13056.0, 'E', 'AFG'),\n",
       " (4, 'Afghanistan', 'Total population', 1982, 12667.0, 'E', 'AFG'),\n",
       " (5, 'Afghanistan', 'Total population', 1987, 11338.0, 'E', 'AFG'),\n",
       " (6, 'Afghanistan', 'Total population', 1992, 13746.0, 'E', 'AFG'),\n",
       " (7, 'Afghanistan', 'Total population', 1997, 18034.0, 'E', 'AFG'),\n",
       " (8, 'Afghanistan', 'Total population', 2002, 21487.0, 'E', 'AFG'),\n",
       " (9, 'Afghanistan', 'Total population', 2007, 25878.0, 'E', 'AFG')]"
      ]
     },
     "execution_count": 33,
     "metadata": {},
     "output_type": "execute_result"
    }
   ],
   "source": [
    "engine.execute('SELECT * FROM AquastatTable LIMIT 10').fetchall()"
   ]
  },
  {
   "cell_type": "code",
   "execution_count": null,
   "metadata": {},
   "outputs": [],
   "source": []
  }
 ],
 "metadata": {
  "kernelspec": {
   "display_name": "Python [default]",
   "language": "python",
   "name": "python3"
  },
  "language_info": {
   "codemirror_mode": {
    "name": "ipython",
    "version": 3
   },
   "file_extension": ".py",
   "mimetype": "text/x-python",
   "name": "python",
   "nbconvert_exporter": "python",
   "pygments_lexer": "ipython3",
   "version": "3.6.5"
  }
 },
 "nbformat": 4,
 "nbformat_minor": 2
}
