{
 "cells": [
  {
   "cell_type": "code",
   "execution_count": 19,
   "metadata": {},
   "outputs": [],
   "source": [
    "from sqlalchemy import create_engine\n",
    "from sqlalchemy.ext.automap import automap_base\n",
    "from sqlalchemy.orm import Session\n",
    "from sqlalchemy import create_engine\n",
    "\n",
    "#engine = create_engine('sqlite:///C:/Users/8135t/Desktop/Project2-WaterWorld/waterdb.sqlite', echo=False)"
   ]
  },
  {
   "cell_type": "code",
   "execution_count": 82,
   "metadata": {},
   "outputs": [],
   "source": [
    "from flask import Flask, jsonify, render_template\n",
    "from flask_sqlalchemy import SQLAlchemy\n"
   ]
  },
  {
   "cell_type": "code",
   "execution_count": 24,
   "metadata": {},
   "outputs": [],
   "source": [
    "engine = create_engine('sqlite:///C:/Users/8135t/Desktop/Project2-WaterWorld/tao-branch/db/waterdb.sqlite', echo=False)"
   ]
  },
  {
   "cell_type": "code",
   "execution_count": 25,
   "metadata": {},
   "outputs": [
    {
     "data": {
      "text/plain": [
       "['Aquastat_table', 'WQI_table']"
      ]
     },
     "execution_count": 25,
     "metadata": {},
     "output_type": "execute_result"
    }
   ],
   "source": [
    "inspector = inspect(engine)\n",
    "inspector.get_table_names()"
   ]
  },
  {
   "cell_type": "code",
   "execution_count": 26,
   "metadata": {},
   "outputs": [
    {
     "name": "stdout",
     "output_type": "stream",
     "text": [
      "index INTEGER\n",
      "country VARCHAR(30)\n",
      "Variable VARCHAR(40)\n",
      "Year INTEGER\n",
      "Value FLOAT\n",
      "unit VARCHAR(10)\n",
      "iso VARCHAR(20)\n"
     ]
    }
   ],
   "source": [
    "columns = inspector.get_columns('Aquastat_table')\n",
    "for column in columns:\n",
    "    print(column[\"name\"], column[\"type\"])"
   ]
  },
  {
   "cell_type": "code",
   "execution_count": 27,
   "metadata": {},
   "outputs": [
    {
     "name": "stdout",
     "output_type": "stream",
     "text": [
      "index INTEGER\n",
      "iso VARCHAR(20)\n",
      "country VARCHAR(30)\n",
      "H2O_current FLOAT\n"
     ]
    }
   ],
   "source": [
    "another_columns = inspector.get_columns('WQI_table')\n",
    "for column in another_columns:\n",
    "    print(column[\"name\"], column[\"type\"])"
   ]
  },
  {
   "cell_type": "code",
   "execution_count": 28,
   "metadata": {},
   "outputs": [],
   "source": [
    "Base = automap_base()\n",
    "# reflect the tables\n",
    "Base.prepare(engine, reflect=True)"
   ]
  },
  {
   "cell_type": "code",
   "execution_count": 29,
   "metadata": {},
   "outputs": [
    {
     "data": {
      "text/plain": [
       "['Aquastat_table', 'WQI_table']"
      ]
     },
     "execution_count": 29,
     "metadata": {},
     "output_type": "execute_result"
    }
   ],
   "source": [
    "Base.classes.keys()"
   ]
  },
  {
   "cell_type": "code",
   "execution_count": 30,
   "metadata": {},
   "outputs": [],
   "source": [
    "WQI_table = Base.classes.WQI_table\n",
    "Aquastat_table = Base.classes.Aquastat_table"
   ]
  },
  {
   "cell_type": "code",
   "execution_count": 7,
   "metadata": {},
   "outputs": [],
   "source": [
    "session = Session(engine)"
   ]
  },
  {
   "cell_type": "code",
   "execution_count": 31,
   "metadata": {},
   "outputs": [],
   "source": [
    "results = session.query(WQITable.iso, WQITable.country, WQITable.H2O_current).limit(10).all()"
   ]
  },
  {
   "cell_type": "code",
   "execution_count": 32,
   "metadata": {},
   "outputs": [
    {
     "name": "stdout",
     "output_type": "stream",
     "text": [
      "('AFG', 'Afghanistan', 25.75)\n",
      "('ALB', 'Albania', 66.56)\n",
      "('DZA', 'Algeria', 60.26)\n",
      "('AGO', 'Angola', 9.2)\n",
      "('ATG', 'Antigua and Barbuda', 53.33)\n",
      "('ARG', 'Argentina', 73.07)\n",
      "('ARM', 'Armenia', 61.94)\n",
      "('AUS', 'Australia', 98.44)\n",
      "('AUT', 'Austria', 94.63)\n",
      "('AZE', 'Azerbaijan', 48.53)\n"
     ]
    }
   ],
   "source": [
    "for result in results:\n",
    "    print(result)"
   ]
  },
  {
   "cell_type": "code",
   "execution_count": 35,
   "metadata": {},
   "outputs": [],
   "source": [
    "aqua_results = session.query(Aquastat_table.country, Aquastat_table.Variable,\n",
    "                             Aquastat_table.Year, Aquastat_table.Value,\n",
    "                             Aquastat_table.unit, Aquastat_table.iso).limit(30).all()"
   ]
  },
  {
   "cell_type": "code",
   "execution_count": 37,
   "metadata": {},
   "outputs": [],
   "source": [
    "# for result in aqua_results:\n",
    "#     print(result)"
   ]
  },
  {
   "cell_type": "code",
   "execution_count": 38,
   "metadata": {},
   "outputs": [],
   "source": [
    "stmt = session.query(Aquastat_table).statement"
   ]
  },
  {
   "cell_type": "code",
   "execution_count": 41,
   "metadata": {},
   "outputs": [],
   "source": [
    "import pandas as pd"
   ]
  },
  {
   "cell_type": "code",
   "execution_count": 42,
   "metadata": {},
   "outputs": [],
   "source": [
    "aqua_df = pd.read_sql_query(stmt, session.bind)\n"
   ]
  },
  {
   "cell_type": "code",
   "execution_count": 49,
   "metadata": {},
   "outputs": [],
   "source": [
    "stmt_wqi = session.query(WQI_table).statement"
   ]
  },
  {
   "cell_type": "code",
   "execution_count": 50,
   "metadata": {},
   "outputs": [],
   "source": [
    "wqi_df = pd.read_sql_query(stmt_wqi, session.bind)"
   ]
  },
  {
   "cell_type": "code",
   "execution_count": 86,
   "metadata": {},
   "outputs": [
    {
     "data": {
      "text/plain": [
       "'Afghanistan'"
      ]
     },
     "execution_count": 86,
     "metadata": {},
     "output_type": "execute_result"
    }
   ],
   "source": [
    "list(aqua_df.country.unique())[0]"
   ]
  },
  {
   "cell_type": "code",
   "execution_count": 89,
   "metadata": {},
   "outputs": [],
   "source": [
    "sel = [\n",
    "        Aquastat_table.country,\n",
    "        Aquastat_table.Variable,\n",
    "        Aquastat_table.Year,\n",
    "        Aquastat_table.Value,\n",
    "        Aquastat_table.unit,\n",
    "        Aquastat_table.iso,\n",
    "    ]"
   ]
  },
  {
   "cell_type": "code",
   "execution_count": 101,
   "metadata": {},
   "outputs": [],
   "source": [
    "afg_stmt = session.query(*sel).filter(Aquastat_table.iso == 'AFG').statement\n"
   ]
  },
  {
   "cell_type": "code",
   "execution_count": 103,
   "metadata": {},
   "outputs": [],
   "source": [
    "afg_df = pd.read_sql_query(afg_stmt,session.bind)\n"
   ]
  },
  {
   "cell_type": "code",
   "execution_count": 164,
   "metadata": {},
   "outputs": [
    {
     "data": {
      "text/html": [
       "<div>\n",
       "<style scoped>\n",
       "    .dataframe tbody tr th:only-of-type {\n",
       "        vertical-align: middle;\n",
       "    }\n",
       "\n",
       "    .dataframe tbody tr th {\n",
       "        vertical-align: top;\n",
       "    }\n",
       "\n",
       "    .dataframe thead th {\n",
       "        text-align: right;\n",
       "    }\n",
       "</style>\n",
       "<table border=\"1\" class=\"dataframe\">\n",
       "  <thead>\n",
       "    <tr style=\"text-align: right;\">\n",
       "      <th></th>\n",
       "      <th>country</th>\n",
       "      <th>Variable</th>\n",
       "      <th>Year</th>\n",
       "      <th>Value</th>\n",
       "      <th>unit</th>\n",
       "      <th>iso</th>\n",
       "    </tr>\n",
       "  </thead>\n",
       "  <tbody>\n",
       "    <tr>\n",
       "      <th>0</th>\n",
       "      <td>Afghanistan</td>\n",
       "      <td>Total population</td>\n",
       "      <td>1962</td>\n",
       "      <td>9344.0</td>\n",
       "      <td>E</td>\n",
       "      <td>AFG</td>\n",
       "    </tr>\n",
       "    <tr>\n",
       "      <th>1</th>\n",
       "      <td>Afghanistan</td>\n",
       "      <td>Total population</td>\n",
       "      <td>1967</td>\n",
       "      <td>10369.0</td>\n",
       "      <td>E</td>\n",
       "      <td>AFG</td>\n",
       "    </tr>\n",
       "    <tr>\n",
       "      <th>2</th>\n",
       "      <td>Afghanistan</td>\n",
       "      <td>Total population</td>\n",
       "      <td>1972</td>\n",
       "      <td>11717.0</td>\n",
       "      <td>E</td>\n",
       "      <td>AFG</td>\n",
       "    </tr>\n",
       "    <tr>\n",
       "      <th>3</th>\n",
       "      <td>Afghanistan</td>\n",
       "      <td>Total population</td>\n",
       "      <td>1977</td>\n",
       "      <td>13056.0</td>\n",
       "      <td>E</td>\n",
       "      <td>AFG</td>\n",
       "    </tr>\n",
       "    <tr>\n",
       "      <th>4</th>\n",
       "      <td>Afghanistan</td>\n",
       "      <td>Total population</td>\n",
       "      <td>1982</td>\n",
       "      <td>12667.0</td>\n",
       "      <td>E</td>\n",
       "      <td>AFG</td>\n",
       "    </tr>\n",
       "  </tbody>\n",
       "</table>\n",
       "</div>"
      ],
      "text/plain": [
       "       country          Variable  Year    Value unit  iso\n",
       "0  Afghanistan  Total population  1962   9344.0    E  AFG\n",
       "1  Afghanistan  Total population  1967  10369.0    E  AFG\n",
       "2  Afghanistan  Total population  1972  11717.0    E  AFG\n",
       "3  Afghanistan  Total population  1977  13056.0    E  AFG\n",
       "4  Afghanistan  Total population  1982  12667.0    E  AFG"
      ]
     },
     "execution_count": 164,
     "metadata": {},
     "output_type": "execute_result"
    }
   ],
   "source": [
    "afg_df.head()"
   ]
  },
  {
   "cell_type": "code",
   "execution_count": 176,
   "metadata": {},
   "outputs": [],
   "source": [
    "sample_dict={}\n",
    "sample_dict['country']=afg_df['country'].iloc[0]\n",
    "sample_dict['iso']=afg_df['iso'].iloc[0]\n",
    "\n",
    "for stuff, stuff2 in afg_df.groupby(['country','Variable'],as_index=True):\n",
    "#     print(f'{stuff[0]} and {stuff[1]}')\n",
    "    data={}\n",
    "    data['Year'] = list(stuff2.Year)\n",
    "    data['Value'] = list(stuff2.Value)\n",
    "#     print('----------------------------')\n",
    "#     print(list(stuff2.Year))\n",
    "#     print(list(stuff2.Value))\n",
    "#     print('############################')\n",
    "    sample_dict[stuff[1]]=data"
   ]
  },
  {
   "cell_type": "code",
   "execution_count": 177,
   "metadata": {},
   "outputs": [
    {
     "data": {
      "text/plain": [
       "{'country': 'Afghanistan',\n",
       " 'iso': 'AFG',\n",
       " 'Population density': {'Year': [1962,\n",
       "   1967,\n",
       "   1972,\n",
       "   1977,\n",
       "   1982,\n",
       "   1987,\n",
       "   1992,\n",
       "   1997,\n",
       "   2002,\n",
       "   2007,\n",
       "   2012,\n",
       "   2015],\n",
       "  'Value': [14.31,\n",
       "   15.88,\n",
       "   17.95,\n",
       "   20.0,\n",
       "   19.4,\n",
       "   17.37,\n",
       "   21.06,\n",
       "   27.62,\n",
       "   32.91,\n",
       "   39.64,\n",
       "   45.53,\n",
       "   49.82]},\n",
       " 'Rural population with access to safe drinking-water (JMP)': {'Year': [1992,\n",
       "   1997,\n",
       "   2002,\n",
       "   2007,\n",
       "   2012,\n",
       "   2015],\n",
       "  'Value': [16.2, 19.5, 27.6, 35.6, 43.7, 47.0]},\n",
       " 'Total population': {'Year': [1962,\n",
       "   1967,\n",
       "   1972,\n",
       "   1977,\n",
       "   1982,\n",
       "   1987,\n",
       "   1992,\n",
       "   1997,\n",
       "   2002,\n",
       "   2007,\n",
       "   2012,\n",
       "   2015],\n",
       "  'Value': [9344.0,\n",
       "   10369.0,\n",
       "   11717.0,\n",
       "   13056.0,\n",
       "   12667.0,\n",
       "   11338.0,\n",
       "   13746.0,\n",
       "   18034.0,\n",
       "   21487.0,\n",
       "   25878.0,\n",
       "   29727.0,\n",
       "   32527.0]},\n",
       " 'Total population with access to safe drinking-water (JMP)': {'Year': [1992,\n",
       "   1997,\n",
       "   2002,\n",
       "   2007,\n",
       "   2012,\n",
       "   2015],\n",
       "  'Value': [21.3, 25.0, 33.8, 42.6, 51.6, 55.3]},\n",
       " 'Urban population': {'Year': [1962,\n",
       "   1967,\n",
       "   1972,\n",
       "   1977,\n",
       "   1982,\n",
       "   1987,\n",
       "   1992,\n",
       "   1997,\n",
       "   2002,\n",
       "   2007,\n",
       "   2012,\n",
       "   2015],\n",
       "  'Value': [804.9,\n",
       "   1066.0,\n",
       "   1434.0,\n",
       "   1888.0,\n",
       "   2045.0,\n",
       "   1935.0,\n",
       "   2608.0,\n",
       "   3872.0,\n",
       "   4866.0,\n",
       "   6215.0,\n",
       "   7596.0,\n",
       "   8547.0]},\n",
       " 'Urban population with access to safe drinking-water (JMP)': {'Year': [1992,\n",
       "   1997,\n",
       "   2002,\n",
       "   2007,\n",
       "   2012,\n",
       "   2015],\n",
       "  'Value': [43.0, 46.7, 55.9, 65.2, 74.5, 78.2]}}"
      ]
     },
     "execution_count": 177,
     "metadata": {},
     "output_type": "execute_result"
    }
   ],
   "source": [
    "sample_dict"
   ]
  },
  {
   "cell_type": "code",
   "execution_count": null,
   "metadata": {},
   "outputs": [],
   "source": []
  },
  {
   "cell_type": "code",
   "execution_count": 146,
   "metadata": {},
   "outputs": [
    {
     "data": {
      "text/plain": [
       "country      Variable                                                 \n",
       "Afghanistan  Population density                                           12\n",
       "             Rural population with access to safe drinking-water (JMP)     6\n",
       "             Total population                                             12\n",
       "             Total population with access to safe drinking-water (JMP)     6\n",
       "             Urban population                                             12\n",
       "             Urban population with access to safe drinking-water (JMP)     6\n",
       "Name: Value, dtype: int64"
      ]
     },
     "execution_count": 146,
     "metadata": {},
     "output_type": "execute_result"
    }
   ],
   "source": [
    "afg_df.groupby(['country','Variable'])['Value'].count()"
   ]
  },
  {
   "cell_type": "code",
   "execution_count": null,
   "metadata": {},
   "outputs": [],
   "source": []
  },
  {
   "cell_type": "code",
   "execution_count": null,
   "metadata": {},
   "outputs": [],
   "source": []
  },
  {
   "cell_type": "code",
   "execution_count": null,
   "metadata": {},
   "outputs": [],
   "source": []
  },
  {
   "cell_type": "code",
   "execution_count": 100,
   "metadata": {},
   "outputs": [
    {
     "name": "stdout",
     "output_type": "stream",
     "text": [
      "('Afghanistan', 'Total population', 1962, 9344.0, 'E', 'AFG')\n",
      "('Afghanistan', 'Total population', 1967, 10369.0, 'E', 'AFG')\n",
      "('Afghanistan', 'Total population', 1972, 11717.0, 'E', 'AFG')\n",
      "('Afghanistan', 'Total population', 1977, 13056.0, 'E', 'AFG')\n",
      "('Afghanistan', 'Total population', 1982, 12667.0, 'E', 'AFG')\n",
      "('Afghanistan', 'Total population', 1987, 11338.0, 'E', 'AFG')\n",
      "('Afghanistan', 'Total population', 1992, 13746.0, 'E', 'AFG')\n",
      "('Afghanistan', 'Total population', 1997, 18034.0, 'E', 'AFG')\n",
      "('Afghanistan', 'Total population', 2002, 21487.0, 'E', 'AFG')\n",
      "('Afghanistan', 'Total population', 2007, 25878.0, 'E', 'AFG')\n",
      "('Afghanistan', 'Total population', 2012, 29727.0, 'E', 'AFG')\n",
      "('Afghanistan', 'Total population', 2015, 32527.0, 'E', 'AFG')\n",
      "('Afghanistan', 'Urban population', 1962, 804.9, 'E', 'AFG')\n",
      "('Afghanistan', 'Urban population', 1967, 1066.0, 'E', 'AFG')\n",
      "('Afghanistan', 'Urban population', 1972, 1434.0, 'E', 'AFG')\n",
      "('Afghanistan', 'Urban population', 1977, 1888.0, 'E', 'AFG')\n",
      "('Afghanistan', 'Urban population', 1982, 2045.0, 'E', 'AFG')\n",
      "('Afghanistan', 'Urban population', 1987, 1935.0, 'E', 'AFG')\n",
      "('Afghanistan', 'Urban population', 1992, 2608.0, 'E', 'AFG')\n",
      "('Afghanistan', 'Urban population', 1997, 3872.0, 'E', 'AFG')\n",
      "('Afghanistan', 'Urban population', 2002, 4866.0, 'E', 'AFG')\n",
      "('Afghanistan', 'Urban population', 2007, 6215.0, 'E', 'AFG')\n",
      "('Afghanistan', 'Urban population', 2012, 7596.0, 'E', 'AFG')\n",
      "('Afghanistan', 'Urban population', 2015, 8547.0, 'E', 'AFG')\n",
      "('Afghanistan', 'Population density', 1962, 14.31, 'E', 'AFG')\n",
      "('Afghanistan', 'Population density', 1967, 15.88, 'E', 'AFG')\n",
      "('Afghanistan', 'Population density', 1972, 17.95, 'E', 'AFG')\n",
      "('Afghanistan', 'Population density', 1977, 20.0, 'E', 'AFG')\n",
      "('Afghanistan', 'Population density', 1982, 19.4, 'E', 'AFG')\n",
      "('Afghanistan', 'Population density', 1987, 17.37, 'E', 'AFG')\n",
      "('Afghanistan', 'Population density', 1992, 21.06, 'E', 'AFG')\n",
      "('Afghanistan', 'Population density', 1997, 27.62, 'E', 'AFG')\n",
      "('Afghanistan', 'Population density', 2002, 32.91, 'E', 'AFG')\n",
      "('Afghanistan', 'Population density', 2007, 39.64, 'E', 'AFG')\n",
      "('Afghanistan', 'Population density', 2012, 45.53, 'E', 'AFG')\n",
      "('Afghanistan', 'Population density', 2015, 49.82, 'E', 'AFG')\n",
      "('Afghanistan', 'Total population with access to safe drinking-water (JMP)', 1992, 21.3, 'E', 'AFG')\n",
      "('Afghanistan', 'Total population with access to safe drinking-water (JMP)', 1997, 25.0, 'E', 'AFG')\n",
      "('Afghanistan', 'Total population with access to safe drinking-water (JMP)', 2002, 33.8, 'E', 'AFG')\n",
      "('Afghanistan', 'Total population with access to safe drinking-water (JMP)', 2007, 42.6, 'E', 'AFG')\n",
      "('Afghanistan', 'Total population with access to safe drinking-water (JMP)', 2012, 51.6, 'E', 'AFG')\n",
      "('Afghanistan', 'Total population with access to safe drinking-water (JMP)', 2015, 55.3, 'E', 'AFG')\n",
      "('Afghanistan', 'Rural population with access to safe drinking-water (JMP)', 1992, 16.2, 'E', 'AFG')\n",
      "('Afghanistan', 'Rural population with access to safe drinking-water (JMP)', 1997, 19.5, 'E', 'AFG')\n",
      "('Afghanistan', 'Rural population with access to safe drinking-water (JMP)', 2002, 27.6, 'E', 'AFG')\n",
      "('Afghanistan', 'Rural population with access to safe drinking-water (JMP)', 2007, 35.6, 'E', 'AFG')\n",
      "('Afghanistan', 'Rural population with access to safe drinking-water (JMP)', 2012, 43.7, 'E', 'AFG')\n",
      "('Afghanistan', 'Rural population with access to safe drinking-water (JMP)', 2015, 47.0, 'E', 'AFG')\n",
      "('Afghanistan', 'Urban population with access to safe drinking-water (JMP)', 1992, 43.0, 'E', 'AFG')\n",
      "('Afghanistan', 'Urban population with access to safe drinking-water (JMP)', 1997, 46.7, 'E', 'AFG')\n",
      "('Afghanistan', 'Urban population with access to safe drinking-water (JMP)', 2002, 55.9, 'E', 'AFG')\n",
      "('Afghanistan', 'Urban population with access to safe drinking-water (JMP)', 2007, 65.2, 'E', 'AFG')\n",
      "('Afghanistan', 'Urban population with access to safe drinking-water (JMP)', 2012, 74.5, 'E', 'AFG')\n",
      "('Afghanistan', 'Urban population with access to safe drinking-water (JMP)', 2015, 78.2, 'E', 'AFG')\n"
     ]
    }
   ],
   "source": [
    "afg_meta_data = {}\n",
    "for result in afg_results:\n",
    "    print(result)"
   ]
  },
  {
   "cell_type": "code",
   "execution_count": 99,
   "metadata": {},
   "outputs": [
    {
     "name": "stdout",
     "output_type": "stream",
     "text": [
      "('Afghanistan', 'Total population', 1962, 9344.0, 'E', 'AFG')\n",
      "('Afghanistan', 'Total population', 1967, 10369.0, 'E', 'AFG')\n",
      "('Afghanistan', 'Total population', 1972, 11717.0, 'E', 'AFG')\n",
      "('Afghanistan', 'Total population', 1977, 13056.0, 'E', 'AFG')\n",
      "('Afghanistan', 'Total population', 1982, 12667.0, 'E', 'AFG')\n",
      "('Afghanistan', 'Total population', 1987, 11338.0, 'E', 'AFG')\n",
      "('Afghanistan', 'Total population', 1992, 13746.0, 'E', 'AFG')\n",
      "('Afghanistan', 'Total population', 1997, 18034.0, 'E', 'AFG')\n",
      "('Afghanistan', 'Total population', 2002, 21487.0, 'E', 'AFG')\n",
      "('Afghanistan', 'Total population', 2007, 25878.0, 'E', 'AFG')\n",
      "('Afghanistan', 'Total population', 2012, 29727.0, 'E', 'AFG')\n",
      "('Afghanistan', 'Total population', 2015, 32527.0, 'E', 'AFG')\n"
     ]
    }
   ],
   "source": [
    "for result in afg_results:\n",
    "    if result[1]=='Total population':\n",
    "        print(result)"
   ]
  },
  {
   "cell_type": "code",
   "execution_count": null,
   "metadata": {},
   "outputs": [],
   "source": []
  },
  {
   "cell_type": "code",
   "execution_count": null,
   "metadata": {},
   "outputs": [],
   "source": []
  },
  {
   "cell_type": "code",
   "execution_count": null,
   "metadata": {},
   "outputs": [],
   "source": []
  },
  {
   "cell_type": "code",
   "execution_count": 80,
   "metadata": {
    "scrolled": true
   },
   "outputs": [
    {
     "name": "stdout",
     "output_type": "stream",
     "text": [
      "Yemen\n",
      "YEM\n",
      "######################################################\n",
      "Tuvalu\n",
      "TUV\n",
      "######################################################\n",
      "San Marino\n",
      "SMR\n",
      "######################################################\n",
      "Saint Kitts and Nevis\n",
      "KNA\n",
      "######################################################\n",
      "Syrian Arab Republic\n",
      "SYR\n",
      "######################################################\n",
      "South Sudan\n",
      "SSD\n",
      "######################################################\n",
      "Somalia\n",
      "SOM\n",
      "######################################################\n",
      "Faroe Islands\n",
      "FRO\n",
      "######################################################\n",
      "Democratic People's Republic of Korea\n",
      "PRK\n",
      "######################################################\n",
      "Cook Islands\n",
      "COK\n",
      "######################################################\n",
      "Holy See\n",
      "VAT\n",
      "######################################################\n",
      "Monaco\n",
      "MCO\n",
      "######################################################\n",
      "Liechtenstein\n",
      "LIE\n",
      "######################################################\n",
      "Andorra\n",
      "AND\n",
      "######################################################\n",
      "Puerto Rico\n",
      "PRI\n",
      "######################################################\n",
      "Tokelau\n",
      "TKL\n",
      "######################################################\n",
      "Occupied Palestinian Territory\n",
      "PSE\n",
      "######################################################\n",
      "Marshall Islands\n",
      "MHL\n",
      "######################################################\n",
      "Nauru\n",
      "NRU\n",
      "######################################################\n",
      "Niue\n",
      "NIU\n",
      "######################################################\n",
      "Palau\n",
      "PLW\n",
      "######################################################\n"
     ]
    }
   ],
   "source": [
    "for isso in (set(aqua_df.iso)-set(wqi_df.iso)):\n",
    "    print(aqua_df.loc[aqua_df['iso']==isso]['country'].iloc[0])\n",
    "    print(aqua_df.loc[aqua_df['iso']==isso]['iso'].iloc[0])\n",
    "    print('######################################################')"
   ]
  },
  {
   "cell_type": "code",
   "execution_count": null,
   "metadata": {},
   "outputs": [],
   "source": []
  },
  {
   "cell_type": "code",
   "execution_count": 45,
   "metadata": {},
   "outputs": [
    {
     "data": {
      "text/plain": [
       "[(0, 'AFG', 'Afghanistan', 25.75),\n",
       " (1, 'ALB', 'Albania', 66.56),\n",
       " (2, 'DZA', 'Algeria', 60.26),\n",
       " (3, 'AGO', 'Angola', 9.2),\n",
       " (4, 'ATG', 'Antigua and Barbuda', 53.33),\n",
       " (5, 'ARG', 'Argentina', 73.07),\n",
       " (6, 'ARM', 'Armenia', 61.94),\n",
       " (7, 'AUS', 'Australia', 98.44),\n",
       " (8, 'AUT', 'Austria', 94.63),\n",
       " (9, 'AZE', 'Azerbaijan', 48.53)]"
      ]
     },
     "execution_count": 45,
     "metadata": {},
     "output_type": "execute_result"
    }
   ],
   "source": [
    "engine.execute('SELECT * FROM WQITable LIMIT 10').fetchall()"
   ]
  },
  {
   "cell_type": "code",
   "execution_count": 33,
   "metadata": {},
   "outputs": [
    {
     "data": {
      "text/plain": [
       "[(0, 'Afghanistan', 'Total population', 1962, 9344.0, 'E', 'AFG'),\n",
       " (1, 'Afghanistan', 'Total population', 1967, 10369.0, 'E', 'AFG'),\n",
       " (2, 'Afghanistan', 'Total population', 1972, 11717.0, 'E', 'AFG'),\n",
       " (3, 'Afghanistan', 'Total population', 1977, 13056.0, 'E', 'AFG'),\n",
       " (4, 'Afghanistan', 'Total population', 1982, 12667.0, 'E', 'AFG'),\n",
       " (5, 'Afghanistan', 'Total population', 1987, 11338.0, 'E', 'AFG'),\n",
       " (6, 'Afghanistan', 'Total population', 1992, 13746.0, 'E', 'AFG'),\n",
       " (7, 'Afghanistan', 'Total population', 1997, 18034.0, 'E', 'AFG'),\n",
       " (8, 'Afghanistan', 'Total population', 2002, 21487.0, 'E', 'AFG'),\n",
       " (9, 'Afghanistan', 'Total population', 2007, 25878.0, 'E', 'AFG')]"
      ]
     },
     "execution_count": 33,
     "metadata": {},
     "output_type": "execute_result"
    }
   ],
   "source": [
    "engine.execute('SELECT * FROM AquastatTable LIMIT 10').fetchall()"
   ]
  },
  {
   "cell_type": "code",
   "execution_count": null,
   "metadata": {},
   "outputs": [],
   "source": []
  }
 ],
 "metadata": {
  "kernelspec": {
   "display_name": "Python [default]",
   "language": "python",
   "name": "python3"
  },
  "language_info": {
   "codemirror_mode": {
    "name": "ipython",
    "version": 3
   },
   "file_extension": ".py",
   "mimetype": "text/x-python",
   "name": "python",
   "nbconvert_exporter": "python",
   "pygments_lexer": "ipython3",
   "version": "3.6.5"
  }
 },
 "nbformat": 4,
 "nbformat_minor": 2
}
